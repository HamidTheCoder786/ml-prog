{
 "cells": [
  {
   "cell_type": "code",
   "execution_count": null,
   "metadata": {},
   "outputs": [],
   "source": [
    "import pandas as pd\n",
    "import sklearn \n",
    "import numpy as np\n",
    "from sklearn.model_selection import train_test_split"
   ]
  },
  {
   "cell_type": "markdown",
   "metadata": {},
   "source": [
    "# Reading, understanding and modifying the Data"
   ]
  },
  {
   "cell_type": "code",
   "execution_count": null,
   "metadata": {},
   "outputs": [],
   "source": [
    "data=pd.read_csv(\"train.csv\")\n",
    "data.describe()"
   ]
  },
  {
   "cell_type": "code",
   "execution_count": null,
   "metadata": {},
   "outputs": [],
   "source": [
    "data.describe()\n"
   ]
  },
  {
   "cell_type": "code",
   "execution_count": null,
   "metadata": {},
   "outputs": [],
   "source": [
    "data.isna().sum()\n",
    "# we have 259 na entries in LotArea"
   ]
  },
  {
   "cell_type": "code",
   "execution_count": null,
   "metadata": {},
   "outputs": [],
   "source": [
    "data[\"Alley\"].dtype # --> object \n",
    "data[\"Alley\"].isna().sum()\n",
    "data[\"Alley\"].mode()"
   ]
  },
  {
   "cell_type": "code",
   "execution_count": null,
   "metadata": {},
   "outputs": [],
   "source": [
    "data.head()"
   ]
  },
  {
   "cell_type": "markdown",
   "metadata": {},
   "source": [
    "As we cannot delete the missing values we will have to perform imputation as the number of missing values is relatively very high"
   ]
  },
  {
   "cell_type": "markdown",
   "metadata": {},
   "source": [
    "In the case of ```data[\"Alley\"]``` the number of NaN values is very high and hence imputation will not yield fruitful results ```1369 out of 1460 ``` are NaN"
   ]
  },
  {
   "cell_type": "code",
   "execution_count": null,
   "metadata": {},
   "outputs": [],
   "source": [
    "data[\"Alley\"].isna().sum()"
   ]
  },
  {
   "cell_type": "code",
   "execution_count": null,
   "metadata": {},
   "outputs": [],
   "source": [
    "data.drop([\"Alley\"],axis=1,inplace=True)"
   ]
  },
  {
   "cell_type": "code",
   "execution_count": null,
   "metadata": {},
   "outputs": [],
   "source": [
    "data[\"LotFrontage\"].isna().sum()"
   ]
  },
  {
   "cell_type": "markdown",
   "metadata": {},
   "source": [
    "We will fill the na values of ```data[\"LotFrontage\"]``` by the mean of the column"
   ]
  },
  {
   "cell_type": "code",
   "execution_count": null,
   "metadata": {},
   "outputs": [],
   "source": [
    "data[\"LotFrontage\"].mean()"
   ]
  },
  {
   "cell_type": "code",
   "execution_count": null,
   "metadata": {},
   "outputs": [],
   "source": [
    "data[\"LotFrontage\"]=data[\"LotFrontage\"].fillna(data[\"LotFrontage\"].mean())"
   ]
  },
  {
   "cell_type": "code",
   "execution_count": null,
   "metadata": {},
   "outputs": [],
   "source": [
    "data[\"LotFrontage\"].isna().sum()"
   ]
  },
  {
   "cell_type": "code",
   "execution_count": null,
   "metadata": {},
   "outputs": [],
   "source": [
    "data[\"MSSubClass\"].isna().sum()\n",
    "# data.head()\n",
    "# data[\"MSSubClass\"] has no NaN values and hence doesnt requires imputaion"
   ]
  },
  {
   "cell_type": "code",
   "execution_count": null,
   "metadata": {},
   "outputs": [],
   "source": [
    "data[\"MSZoning\"].isna().sum()\n",
    "# data[\"MSZoning\"] has no NaN values and hence doesnt requires imputaion\n"
   ]
  },
  {
   "cell_type": "code",
   "execution_count": null,
   "metadata": {},
   "outputs": [],
   "source": [
    "data[\"LotArea\"].isna().sum()\n",
    "# data[\"LotArea\"] has no NaN values and hence doesnt requires imputaion\n"
   ]
  },
  {
   "cell_type": "code",
   "execution_count": null,
   "metadata": {},
   "outputs": [],
   "source": [
    "data[\"Street\"].isna().sum()"
   ]
  },
  {
   "cell_type": "code",
   "execution_count": null,
   "metadata": {},
   "outputs": [],
   "source": [
    "data[\"LotShape\"].isna().sum()\n"
   ]
  },
  {
   "cell_type": "code",
   "execution_count": null,
   "metadata": {},
   "outputs": [],
   "source": [
    "data[\"LandContour\"].isna().sum()\n"
   ]
  },
  {
   "cell_type": "code",
   "execution_count": null,
   "metadata": {},
   "outputs": [],
   "source": [
    "data[\"Utilities\"].isna().sum()\n"
   ]
  },
  {
   "cell_type": "code",
   "execution_count": null,
   "metadata": {},
   "outputs": [],
   "source": [
    "data[\"LotConfig\"].isna().sum()\n"
   ]
  },
  {
   "cell_type": "code",
   "execution_count": null,
   "metadata": {},
   "outputs": [],
   "source": [
    "data[\"LandSlope\"].isna().sum()\n"
   ]
  },
  {
   "cell_type": "code",
   "execution_count": null,
   "metadata": {},
   "outputs": [],
   "source": [
    "data[\"Neighborhood\"].isna().sum()\n"
   ]
  },
  {
   "cell_type": "code",
   "execution_count": null,
   "metadata": {},
   "outputs": [],
   "source": [
    "data[\"Condition2\"].isna().sum(),data[\"Condition1\"].isna().sum()\n"
   ]
  },
  {
   "cell_type": "code",
   "execution_count": null,
   "metadata": {},
   "outputs": [],
   "source": [
    "data[\"BldgType\"].isna().sum(),data[\"HouseStyle\"].isna().sum() \n"
   ]
  },
  {
   "cell_type": "code",
   "execution_count": null,
   "metadata": {},
   "outputs": [],
   "source": [
    "data[\"OverallQual\"].isna().sum(),data[\"OverallCond\"].isna().sum(),data[\"YearBuilt\"].isna().sum(),data[\"YearRemodAdd\"].isna().sum(),data[\"RoofStyle\"].isna().sum()"
   ]
  },
  {
   "cell_type": "code",
   "execution_count": null,
   "metadata": {},
   "outputs": [],
   "source": [
    "data[\"RoofMatl\"].isna().sum(),data[\"Exterior1st\"].isna().sum(),data[\"Exterior2nd\"].isna().sum(),data[\"MasVnrArea\"].isna().sum(),data[\"ExterQual\"].isna().sum(),data[\"ExterCond\"].isna().sum()"
   ]
  },
  {
   "cell_type": "code",
   "execution_count": null,
   "metadata": {},
   "outputs": [],
   "source": [
    "data[\"MasVnrArea\"].isna().sum()"
   ]
  },
  {
   "cell_type": "code",
   "execution_count": null,
   "metadata": {},
   "outputs": [],
   "source": [
    "data[\"MasVnrArea\"].mean()"
   ]
  },
  {
   "cell_type": "code",
   "execution_count": null,
   "metadata": {},
   "outputs": [],
   "source": [
    "# we will fill the nan values with the mean of the column\n",
    "data[\"MasVnrArea\"]=data[\"MasVnrArea\"].fillna(data[\"MasVnrArea\"].mean())"
   ]
  },
  {
   "cell_type": "code",
   "execution_count": null,
   "metadata": {},
   "outputs": [],
   "source": [
    "data[\"MasVnrArea\"].isna().sum()\n"
   ]
  },
  {
   "cell_type": "code",
   "execution_count": null,
   "metadata": {},
   "outputs": [],
   "source": [
    "data[\"Foundation\"].isna().sum(),data[\"BsmtQual\"].isna().sum(),data[\"BsmtCond\"].isna().sum(),data[\"BsmtExposure\"].isna().sum(),data[\"BsmtFinType1\"].isna().sum(),data[\"BsmtFinSF1\"].isna().sum()\n"
   ]
  },
  {
   "cell_type": "code",
   "execution_count": null,
   "metadata": {},
   "outputs": [],
   "source": [
    "data[\"Foundation\"].dtype,data[\"BsmtQual\"].dtype,data[\"BsmtCond\"].dtype,data[\"BsmtExposure\"].dtype,data[\"BsmtFinType1\"].dtype,data[\"BsmtFinSF1\"].dtype\n"
   ]
  },
  {
   "cell_type": "markdown",
   "metadata": {},
   "source": [
    "As all the NaN containing columns have a object dtype hence it can be concluded that these values must be replaced with the mode of the columns "
   ]
  },
  {
   "cell_type": "code",
   "execution_count": null,
   "metadata": {},
   "outputs": [],
   "source": [
    "data[\"Foundation\"].mode(),data[\"BsmtQual\"].mode(),data[\"BsmtCond\"].mode(),data[\"BsmtExposure\"].mode(),data[\"BsmtFinType1\"].mode(),data[\"BsmtFinSF1\"].mode()\n"
   ]
  },
  {
   "cell_type": "code",
   "execution_count": null,
   "metadata": {},
   "outputs": [],
   "source": [
    "data[\"BsmtFinType1\"]=data[\"BsmtFinType1\"].fillna(\"Unf\")"
   ]
  },
  {
   "cell_type": "code",
   "execution_count": null,
   "metadata": {},
   "outputs": [],
   "source": [
    "data[\"Foundation\"].isna().sum(),data[\"BsmtQual\"].isna().sum(),data[\"BsmtCond\"].isna().sum(),data[\"BsmtExposure\"].isna().sum(),data[\"BsmtFinType1\"].isna().sum(),data[\"BsmtFinSF1\"].isna().sum()\n"
   ]
  },
  {
   "cell_type": "code",
   "execution_count": null,
   "metadata": {},
   "outputs": [],
   "source": [
    "data[\"BsmtFinType1\"].describe()"
   ]
  },
  {
   "cell_type": "code",
   "execution_count": null,
   "metadata": {},
   "outputs": [],
   "source": [
    "data[\"3SsnPorch\"].isna().sum(),data[\"ScreenPorch\"].isna().sum(),data[\"PoolArea\"].isna().sum(),data[\"PoolQC\"].isna().sum(),data[\"Fence\"].isna().sum(),data[\"MiscFeature\"].isna().sum()\n"
   ]
  },
  {
   "cell_type": "code",
   "execution_count": null,
   "metadata": {},
   "outputs": [],
   "source": [
    "data[\"GarageCond\"].describe()\n"
   ]
  },
  {
   "cell_type": "code",
   "execution_count": null,
   "metadata": {},
   "outputs": [],
   "source": [
    "data[\"GarageCond\"]=data[\"GarageCond\"].fillna(\"TA\")\n"
   ]
  },
  {
   "cell_type": "code",
   "execution_count": null,
   "metadata": {},
   "outputs": [],
   "source": [
    "data[\"FireplaceQu\"].isna().sum()\n",
    "# data[\"FireplaceQu\"].describe()\n",
    "# data[\"FireplaceQu\"]=data[\"FireplaceQu\"].fillna(\"Gd\")"
   ]
  },
  {
   "cell_type": "code",
   "execution_count": null,
   "metadata": {},
   "outputs": [],
   "source": [
    "data.drop(\"PoolQC\",axis=1,inplace=True)\n",
    "data.drop(\"MiscFeature\",axis=1,inplace=True)\n",
    "data.drop(\"Fence\",axis=1,inplace=True)\n",
    "\n"
   ]
  },
  {
   "cell_type": "markdown",
   "metadata": {},
   "source": [
    "As ```data[\"PoolQC\"] , data[\"Fence\"] , data[\"MiscFeature\"]```\n",
    "have lots of missing values ```1453 , 1179 , 1406 out of 1460 ```\n",
    "respectively hence they are dropped"
   ]
  },
  {
   "cell_type": "code",
   "execution_count": null,
   "metadata": {},
   "outputs": [],
   "source": [
    "data[\"MiscVal\"].isna().sum(),data[\"MoSold\"].isna().sum(),data[\"YrSold\"].isna().sum(),data[\"SaleType\"].isna().sum(),data[\"SaleCondition\"].isna().sum(),data[\"SalePrice\"].isna().sum()\n"
   ]
  },
  {
   "cell_type": "markdown",
   "metadata": {},
   "source": [
    "Data Modelling is completed now we'll apply ML Model "
   ]
  },
  {
   "cell_type": "code",
   "execution_count": null,
   "metadata": {},
   "outputs": [],
   "source": [
    "data.to_csv(\"datamod.csv\")"
   ]
  },
  {
   "cell_type": "markdown",
   "metadata": {},
   "source": [
    "# Applying ML Algorithms"
   ]
  },
  {
   "cell_type": "markdown",
   "metadata": {},
   "source": [
    "For A Regreesion Problem we have basically 3 Ways to Implement it :\n",
    "\n",
    "* Linear Regression \n",
    "\n",
    "* RandomForestRegressor\n",
    "\n",
    "* HistGradientBoostinRegressor\n"
   ]
  },
  {
   "cell_type": "code",
   "execution_count": null,
   "metadata": {},
   "outputs": [],
   "source": [
    "x=data.drop(\"SalePrice\",axis=1)\n",
    "y=data[\"SalePrice\"]\n"
   ]
  },
  {
   "cell_type": "code",
   "execution_count": null,
   "metadata": {},
   "outputs": [],
   "source": [
    "from sklearn.linear_model import LinearRegression\n",
    "from sklearn.ensemble import RandomForestRegressor\n",
    "model1=LinearRegression()\n",
    "model2=RandomForestRegressor()\n"
   ]
  },
  {
   "cell_type": "markdown",
   "metadata": {},
   "source": [
    "Perfroming Data Preprocessing using ```onehotencoder```"
   ]
  },
  {
   "cell_type": "code",
   "execution_count": null,
   "metadata": {},
   "outputs": [],
   "source": [
    "from sklearn.preprocessing import OneHotEncoder\n",
    "from sklearn.compose import ColumnTransformer\n",
    "cf=[\"SaleCondition\",\"SaleType\",\"PavedDrive\",\"GarageCond\",\"GarageQual\",\"GarageFinish\",\"FireplaceQu\",\"Functional\",\"KitchenQual\",\"Electrical\",\"CentralAir\",\"HeatingQC\",\"Heating\",\"BsmtFinType2\",\"BsmtFinType1\",\"BsmtExposure\",\"BsmtCond\",\"BsmtQual\",\"Foundation\",\"ExterCond\",\"ExterQual\",\"MasVnrType\",\"Exterior2nd\",\"Exterior1st\",\"RoofMatl\",\"RoofStyle\",\"HouseStyle\",\"BldgType\",\"Condition2\",\"Condition1\",\"Neighborhood\",\"LandSlope\",\"LotConfig\",\"Utilities\",\"LandContour\",\"LotShape\",\"Street\",\"MSZoning\",\"GarageType\"]\n",
    "\n",
    "oh=OneHotEncoder(sparse=False)\n",
    "# transformer=ColumnTransformer([])\n",
    "transformer=ColumnTransformer([(\"1hot\",oh,cf)],remainder=\"passthrough\")\n",
    "transformedx=transformer.fit_transform(x)\n",
    "x=pd.DataFrame(transformedx)\n"
   ]
  },
  {
   "cell_type": "code",
   "execution_count": null,
   "metadata": {},
   "outputs": [],
   "source": [
    "np.random.seed(42)\n",
    "xtrain,xtest,ytrain,ytest=train_test_split(transformedx,y,test_size=0.2)\n",
    "x.isna().sum()\n",
    "\n",
    "# data[\"SalePrice\"].isna().sum()"
   ]
  },
  {
   "cell_type": "code",
   "execution_count": null,
   "metadata": {},
   "outputs": [],
   "source": [
    "# xtrain.isna().sum()\n",
    "# data.isna().sum()\n",
    "# model1.fit(xtrain,ytrain)\n",
    "np.any(np.isnan(x))\n",
    "np.all(np.isfinite(x))\n",
    "pd.set_option('use_inf_as_na',True)"
   ]
  },
  {
   "cell_type": "code",
   "execution_count": null,
   "metadata": {},
   "outputs": [],
   "source": [
    "# model2.fit(xtrain,ytrain)\n",
    "# pd.x.dropna(axis=0)\n",
    "x.replace([np.inf, -np.inf], np.nan, inplace=True)"
   ]
  },
  {
   "cell_type": "markdown",
   "metadata": {},
   "source": [
    "dummies=pd.get_dummies(data[[\"SaleCondition\",\"SaleType\",\"PavedDrive\",\"GarageCond\",\"GarageQual\",\"GarageFinish\",\"FireplaceQu\",\"Functional\",\"KitchenQual\",\"Electrical\",\"CentralAir\",\"HeatingQC\",\"Heating\",\"BsmtFinType2\",\"BsmtFinType1\",\"BsmtExposure\",\"BsmtCond\",\"BsmtQual\",\"Foundation\",\"ExterCond\",\"ExterQual\",\"MasVnrType\",\"Exterior2nd\",\"Exterior1st\",\"RoofMatl\",\"RoofStyle\",\"HouseStyle\",\"BldgType\",\"Condition2\",\"Condition1\",\"Neighborhood\",\"LandSlope\",\"LotConfig\",\"Utilities\",\"LandContour\",\"LotShape\",\"Street\",\"MSZoning\",\"GarageType\"]])\n",
    "dummies"
   ]
  },
  {
   "cell_type": "markdown",
   "metadata": {},
   "source": [
    "x=dummies\n",
    "np.random.seed(42)\n",
    "xtrain,xtest,ytrain,ytest=train_test_split(transformedx,y,test_size=0.2)"
   ]
  },
  {
   "cell_type": "markdown",
   "metadata": {},
   "source": [
    "model=RandomForestRegressor()\n",
    "model.fit(xtrain,ytrain)"
   ]
  },
  {
   "cell_type": "markdown",
   "metadata": {},
   "source": [
    "\n",
    "np.random.seed(42)\n",
    "xtrain,xtest,ytrain,ytest=train_test_split(transformedx,y,test_size=0.2)"
   ]
  },
  {
   "cell_type": "code",
   "execution_count": null,
   "metadata": {},
   "outputs": [],
   "source": [
    "np.any(np.isnan(x)),np.all(np.isfinite(x))\n"
   ]
  },
  {
   "cell_type": "markdown",
   "metadata": {},
   "source": [
    "By the above findings it can be concluded that a value has been registered greater than the maximum storage allowed by the float  data type hence ```Input contains NaN ``` error is prompted "
   ]
  },
  {
   "cell_type": "markdown",
   "metadata": {},
   "source": [
    "In light of the above findings it is hereby concluded that ```GradientBoostingRegressor``` will be used to solve this problem "
   ]
  },
  {
   "cell_type": "markdown",
   "metadata": {},
   "source": [
    "# GradientBoostingRegressor\n",
    "\n",
    "Why are we using it?\n",
    "\n",
    "* This estimator is much faster than GradientBoostingRegressor for big datasets (n_samples >= 10 000). Ours is 1460\n",
    "\n",
    "* This estimator can easily work with NaN values"
   ]
  },
  {
   "cell_type": "code",
   "execution_count": null,
   "metadata": {},
   "outputs": [],
   "source": [
    "from sklearn.ensemble import HistGradientBoostingRegressor\n"
   ]
  },
  {
   "cell_type": "markdown",
   "metadata": {},
   "source": [
    "Here xtest and ytest are pseudo test sets of the train.csv. They are not to be confused by the test.csv"
   ]
  },
  {
   "cell_type": "code",
   "execution_count": null,
   "metadata": {},
   "outputs": [],
   "source": [
    "np.random.seed(42)\n",
    "xtrain,xtest,ytrain,ytest=train_test_split(x,y)"
   ]
  },
  {
   "cell_type": "code",
   "execution_count": null,
   "metadata": {},
   "outputs": [],
   "source": [
    "model=HistGradientBoostingRegressor().fit(xtrain,ytrain)\n",
    "# model.fit(xtrain,ytrain)"
   ]
  },
  {
   "cell_type": "code",
   "execution_count": null,
   "metadata": {},
   "outputs": [],
   "source": [
    "model.score(xtest,ytest)"
   ]
  },
  {
   "cell_type": "code",
   "execution_count": null,
   "metadata": {},
   "outputs": [],
   "source": [
    "ypreds=model.predict(xtest)"
   ]
  },
  {
   "cell_type": "code",
   "execution_count": null,
   "metadata": {},
   "outputs": [],
   "source": [
    "ypreds.shape"
   ]
  },
  {
   "cell_type": "markdown",
   "metadata": {},
   "source": [
    "With default Hyper Tuning Parameters we obtained an accuracy of ``` 88.9 % ``` "
   ]
  },
  {
   "cell_type": "markdown",
   "metadata": {},
   "source": [
    "Fine Tuning Hyper Tuning Parameters of our model "
   ]
  },
  {
   "cell_type": "code",
   "execution_count": null,
   "metadata": {},
   "outputs": [],
   "source": [
    "model=HistGradientBoostingRegressor(learning_rate=1).fit(xtrain,ytrain)\n",
    "model.score(xtest,ytest)\n",
    "# model.predict\n"
   ]
  },
  {
   "cell_type": "markdown",
   "metadata": {},
   "source": [
    "By increasing the learning rate we end up decreasing the efficiency "
   ]
  },
  {
   "cell_type": "code",
   "execution_count": null,
   "metadata": {},
   "outputs": [],
   "source": [
    "# model=HistGradientBoostingRegressor(max_iter=1000).fit(xtrain,ytrain)\n",
    "# model.score(xtest,ytest)"
   ]
  },
  {
   "cell_type": "markdown",
   "metadata": {},
   "source": [
    "A 1% increase is obtained after 1min 14.4 sec of computational time after increasing max_iter from 100 to 1000 hence we will stick to default parameters "
   ]
  },
  {
   "cell_type": "markdown",
   "metadata": {},
   "source": [
    "# Testin Accuracy Of Our Regression Model "
   ]
  },
  {
   "cell_type": "code",
   "execution_count": null,
   "metadata": {},
   "outputs": [],
   "source": [
    "from sklearn.metrics import mean_squared_error as mse\n",
    "model=HistGradientBoostingRegressor().fit(xtrain,ytrain)\n",
    "\n"
   ]
  },
  {
   "cell_type": "code",
   "execution_count": null,
   "metadata": {},
   "outputs": [],
   "source": [
    "ypreds=model.predict(xtest)"
   ]
  },
  {
   "cell_type": "code",
   "execution_count": null,
   "metadata": {},
   "outputs": [],
   "source": [
    "rmse=mse(ytest,ypreds)**0.5\n",
    "rmse"
   ]
  },
  {
   "cell_type": "code",
   "execution_count": null,
   "metadata": {},
   "outputs": [],
   "source": [
    "ytest/ypreds\n"
   ]
  },
  {
   "cell_type": "code",
   "execution_count": null,
   "metadata": {},
   "outputs": [],
   "source": [
    "model.fit(x,y)"
   ]
  },
  {
   "cell_type": "markdown",
   "metadata": {},
   "source": [
    "# Our model is now ready to make prediction on test data "
   ]
  },
  {
   "cell_type": "code",
   "execution_count": null,
   "metadata": {},
   "outputs": [],
   "source": [
    "test=pd.read_csv(\"test.csv\")\n",
    "\n",
    "test.to_csv(\"testobt.csv\")\n"
   ]
  },
  {
   "cell_type": "code",
   "execution_count": null,
   "metadata": {},
   "outputs": [],
   "source": []
  },
  {
   "cell_type": "markdown",
   "metadata": {},
   "source": [
    "from sklearn.preprocessing import OneHotEncoder\n",
    "from sklearn.compose import ColumnTransformer\n",
    "cf=[\"SaleCondition\",\"SaleType\",\"PavedDrive\",\"GarageCond\",\"GarageQual\",\"GarageFinish\",\"FireplaceQu\",\"Functional\",\"KitchenQual\",\"Electrical\",\"CentralAir\",\"HeatingQC\",\"Heating\",\"BsmtFinType2\",\"BsmtFinType1\",\"BsmtExposure\",\"BsmtCond\",\"BsmtQual\",\"Foundation\",\"ExterCond\",\"ExterQual\",\"MasVnrType\",\"Exterior2nd\",\"Exterior1st\",\"RoofMatl\",\"RoofStyle\",\"HouseStyle\",\"BldgType\",\"Condition2\",\"Condition1\",\"Neighborhood\",\"LandSlope\",\"LotConfig\",\"Utilities\",\"LandContour\",\"LotShape\",\"Street\",\"MSZoning\",\"GarageType\",\"Street\",\"MiscFeature\",\"Fence\",\"PoolQC\",\"GarageType\",\"Alley\"]\n",
    "oh=OneHotEncoder(sparse=False)\n",
    "\n",
    "transformer=ColumnTransformer([(\"1hot\",oh,cf)],remainder=\"passthrough\")\n",
    "transformedx=transformer.fit_transform(test)\n",
    "x=pd.DataFrame(transformedx)\n",
    "x"
   ]
  },
  {
   "cell_type": "code",
   "execution_count": null,
   "metadata": {},
   "outputs": [],
   "source": [
    "# test.drop(\"PoolQC\",axis=1,inplace=True)\n",
    "# test.drop(\"MiscFeature\",axis=1,inplace=True)\n",
    "# test.drop(\"Fence\",axis=1,inplace=True)\n",
    "# test.drop(\"Alley\",axis=1,inplace=True)\n"
   ]
  },
  {
   "cell_type": "markdown",
   "metadata": {},
   "source": [
    "from sklearn.preprocessing import OneHotEncoder\n",
    "from sklearn.compose import ColumnTransformer\n",
    "cf=[\"SaleCondition\",\"SaleType\",\"PavedDrive\",\"GarageCond\",\"GarageQual\",\"GarageFinish\",\"FireplaceQu\",\"Functional\",\"KitchenQual\",\"Electrical\",\"CentralAir\",\"HeatingQC\",\"Heating\",\"BsmtFinType2\",\"BsmtFinType1\",\"BsmtExposure\",\"BsmtCond\",\"BsmtQual\",\"Foundation\",\"ExterCond\",\"ExterQual\",\"MasVnrType\",\"Exterior2nd\",\"Exterior1st\",\"RoofMatl\",\"RoofStyle\",\"HouseStyle\",\"BldgType\",\"Condition2\",\"Condition1\",\"Neighborhood\",\"LandSlope\",\"LotConfig\",\"Utilities\",\"LandContour\",\"LotShape\",\"Street\",\"MSZoning\",\"GarageType\"]\n",
    "\n",
    "oh=OneHotEncoder(sparse=False)\n",
    "# transformer=ColumnTransformer([])\n",
    "transformer=ColumnTransformer([(\"1hot\",oh,cf)],remainder=\"passthrough\")\n",
    "transformedx=transformer.fit_transform(test)\n",
    "x=pd.DataFrame(transformedx)\n"
   ]
  },
  {
   "cell_type": "code",
   "execution_count": 802,
   "metadata": {},
   "outputs": [
    {
     "name": "stderr",
     "output_type": "stream",
     "text": [
      "/home/hamid/.local/lib/python3.10/site-packages/sklearn/preprocessing/_encoders.py:808: FutureWarning: `sparse` was renamed to `sparse_output` in version 1.2 and will be removed in 1.4. `sparse_output` is ignored unless you leave `sparse` to its default value.\n",
      "  warnings.warn(\n"
     ]
    },
    {
     "data": {
      "text/html": [
       "<div>\n",
       "<style scoped>\n",
       "    .dataframe tbody tr th:only-of-type {\n",
       "        vertical-align: middle;\n",
       "    }\n",
       "\n",
       "    .dataframe tbody tr th {\n",
       "        vertical-align: top;\n",
       "    }\n",
       "\n",
       "    .dataframe thead th {\n",
       "        text-align: right;\n",
       "    }\n",
       "</style>\n",
       "<table border=\"1\" class=\"dataframe\">\n",
       "  <thead>\n",
       "    <tr style=\"text-align: right;\">\n",
       "      <th></th>\n",
       "      <th>0</th>\n",
       "      <th>1</th>\n",
       "      <th>2</th>\n",
       "      <th>3</th>\n",
       "      <th>4</th>\n",
       "      <th>5</th>\n",
       "      <th>6</th>\n",
       "      <th>7</th>\n",
       "      <th>8</th>\n",
       "      <th>9</th>\n",
       "      <th>...</th>\n",
       "      <th>276</th>\n",
       "      <th>277</th>\n",
       "      <th>278</th>\n",
       "      <th>279</th>\n",
       "      <th>280</th>\n",
       "      <th>281</th>\n",
       "      <th>282</th>\n",
       "      <th>283</th>\n",
       "      <th>284</th>\n",
       "      <th>285</th>\n",
       "    </tr>\n",
       "  </thead>\n",
       "  <tbody>\n",
       "    <tr>\n",
       "      <th>0</th>\n",
       "      <td>0.0</td>\n",
       "      <td>0.0</td>\n",
       "      <td>0.0</td>\n",
       "      <td>0.0</td>\n",
       "      <td>1.0</td>\n",
       "      <td>0.0</td>\n",
       "      <td>0.0</td>\n",
       "      <td>0.0</td>\n",
       "      <td>0.0</td>\n",
       "      <td>0.0</td>\n",
       "      <td>...</td>\n",
       "      <td>730.0</td>\n",
       "      <td>140.0</td>\n",
       "      <td>0.0</td>\n",
       "      <td>0.0</td>\n",
       "      <td>0.0</td>\n",
       "      <td>120.0</td>\n",
       "      <td>0.0</td>\n",
       "      <td>0.0</td>\n",
       "      <td>6.0</td>\n",
       "      <td>2010.0</td>\n",
       "    </tr>\n",
       "    <tr>\n",
       "      <th>1</th>\n",
       "      <td>0.0</td>\n",
       "      <td>0.0</td>\n",
       "      <td>0.0</td>\n",
       "      <td>0.0</td>\n",
       "      <td>1.0</td>\n",
       "      <td>0.0</td>\n",
       "      <td>0.0</td>\n",
       "      <td>0.0</td>\n",
       "      <td>0.0</td>\n",
       "      <td>0.0</td>\n",
       "      <td>...</td>\n",
       "      <td>312.0</td>\n",
       "      <td>393.0</td>\n",
       "      <td>36.0</td>\n",
       "      <td>0.0</td>\n",
       "      <td>0.0</td>\n",
       "      <td>0.0</td>\n",
       "      <td>0.0</td>\n",
       "      <td>12500.0</td>\n",
       "      <td>6.0</td>\n",
       "      <td>2010.0</td>\n",
       "    </tr>\n",
       "    <tr>\n",
       "      <th>2</th>\n",
       "      <td>0.0</td>\n",
       "      <td>0.0</td>\n",
       "      <td>0.0</td>\n",
       "      <td>0.0</td>\n",
       "      <td>1.0</td>\n",
       "      <td>0.0</td>\n",
       "      <td>0.0</td>\n",
       "      <td>0.0</td>\n",
       "      <td>0.0</td>\n",
       "      <td>0.0</td>\n",
       "      <td>...</td>\n",
       "      <td>482.0</td>\n",
       "      <td>212.0</td>\n",
       "      <td>34.0</td>\n",
       "      <td>0.0</td>\n",
       "      <td>0.0</td>\n",
       "      <td>0.0</td>\n",
       "      <td>0.0</td>\n",
       "      <td>0.0</td>\n",
       "      <td>3.0</td>\n",
       "      <td>2010.0</td>\n",
       "    </tr>\n",
       "    <tr>\n",
       "      <th>3</th>\n",
       "      <td>0.0</td>\n",
       "      <td>0.0</td>\n",
       "      <td>0.0</td>\n",
       "      <td>0.0</td>\n",
       "      <td>1.0</td>\n",
       "      <td>0.0</td>\n",
       "      <td>0.0</td>\n",
       "      <td>0.0</td>\n",
       "      <td>0.0</td>\n",
       "      <td>0.0</td>\n",
       "      <td>...</td>\n",
       "      <td>470.0</td>\n",
       "      <td>360.0</td>\n",
       "      <td>36.0</td>\n",
       "      <td>0.0</td>\n",
       "      <td>0.0</td>\n",
       "      <td>0.0</td>\n",
       "      <td>0.0</td>\n",
       "      <td>0.0</td>\n",
       "      <td>6.0</td>\n",
       "      <td>2010.0</td>\n",
       "    </tr>\n",
       "    <tr>\n",
       "      <th>4</th>\n",
       "      <td>0.0</td>\n",
       "      <td>0.0</td>\n",
       "      <td>0.0</td>\n",
       "      <td>0.0</td>\n",
       "      <td>1.0</td>\n",
       "      <td>0.0</td>\n",
       "      <td>0.0</td>\n",
       "      <td>0.0</td>\n",
       "      <td>0.0</td>\n",
       "      <td>0.0</td>\n",
       "      <td>...</td>\n",
       "      <td>506.0</td>\n",
       "      <td>0.0</td>\n",
       "      <td>82.0</td>\n",
       "      <td>0.0</td>\n",
       "      <td>0.0</td>\n",
       "      <td>144.0</td>\n",
       "      <td>0.0</td>\n",
       "      <td>0.0</td>\n",
       "      <td>1.0</td>\n",
       "      <td>2010.0</td>\n",
       "    </tr>\n",
       "    <tr>\n",
       "      <th>...</th>\n",
       "      <td>...</td>\n",
       "      <td>...</td>\n",
       "      <td>...</td>\n",
       "      <td>...</td>\n",
       "      <td>...</td>\n",
       "      <td>...</td>\n",
       "      <td>...</td>\n",
       "      <td>...</td>\n",
       "      <td>...</td>\n",
       "      <td>...</td>\n",
       "      <td>...</td>\n",
       "      <td>...</td>\n",
       "      <td>...</td>\n",
       "      <td>...</td>\n",
       "      <td>...</td>\n",
       "      <td>...</td>\n",
       "      <td>...</td>\n",
       "      <td>...</td>\n",
       "      <td>...</td>\n",
       "      <td>...</td>\n",
       "      <td>...</td>\n",
       "    </tr>\n",
       "    <tr>\n",
       "      <th>1454</th>\n",
       "      <td>0.0</td>\n",
       "      <td>0.0</td>\n",
       "      <td>0.0</td>\n",
       "      <td>0.0</td>\n",
       "      <td>1.0</td>\n",
       "      <td>0.0</td>\n",
       "      <td>0.0</td>\n",
       "      <td>0.0</td>\n",
       "      <td>0.0</td>\n",
       "      <td>0.0</td>\n",
       "      <td>...</td>\n",
       "      <td>0.0</td>\n",
       "      <td>0.0</td>\n",
       "      <td>0.0</td>\n",
       "      <td>0.0</td>\n",
       "      <td>0.0</td>\n",
       "      <td>0.0</td>\n",
       "      <td>0.0</td>\n",
       "      <td>0.0</td>\n",
       "      <td>6.0</td>\n",
       "      <td>2006.0</td>\n",
       "    </tr>\n",
       "    <tr>\n",
       "      <th>1455</th>\n",
       "      <td>1.0</td>\n",
       "      <td>0.0</td>\n",
       "      <td>0.0</td>\n",
       "      <td>0.0</td>\n",
       "      <td>0.0</td>\n",
       "      <td>0.0</td>\n",
       "      <td>0.0</td>\n",
       "      <td>0.0</td>\n",
       "      <td>0.0</td>\n",
       "      <td>0.0</td>\n",
       "      <td>...</td>\n",
       "      <td>286.0</td>\n",
       "      <td>0.0</td>\n",
       "      <td>24.0</td>\n",
       "      <td>0.0</td>\n",
       "      <td>0.0</td>\n",
       "      <td>0.0</td>\n",
       "      <td>0.0</td>\n",
       "      <td>0.0</td>\n",
       "      <td>4.0</td>\n",
       "      <td>2006.0</td>\n",
       "    </tr>\n",
       "    <tr>\n",
       "      <th>1456</th>\n",
       "      <td>1.0</td>\n",
       "      <td>0.0</td>\n",
       "      <td>0.0</td>\n",
       "      <td>0.0</td>\n",
       "      <td>0.0</td>\n",
       "      <td>0.0</td>\n",
       "      <td>0.0</td>\n",
       "      <td>0.0</td>\n",
       "      <td>0.0</td>\n",
       "      <td>0.0</td>\n",
       "      <td>...</td>\n",
       "      <td>576.0</td>\n",
       "      <td>474.0</td>\n",
       "      <td>0.0</td>\n",
       "      <td>0.0</td>\n",
       "      <td>0.0</td>\n",
       "      <td>0.0</td>\n",
       "      <td>0.0</td>\n",
       "      <td>0.0</td>\n",
       "      <td>9.0</td>\n",
       "      <td>2006.0</td>\n",
       "    </tr>\n",
       "    <tr>\n",
       "      <th>1457</th>\n",
       "      <td>0.0</td>\n",
       "      <td>0.0</td>\n",
       "      <td>0.0</td>\n",
       "      <td>0.0</td>\n",
       "      <td>1.0</td>\n",
       "      <td>0.0</td>\n",
       "      <td>0.0</td>\n",
       "      <td>0.0</td>\n",
       "      <td>0.0</td>\n",
       "      <td>0.0</td>\n",
       "      <td>...</td>\n",
       "      <td>0.0</td>\n",
       "      <td>80.0</td>\n",
       "      <td>32.0</td>\n",
       "      <td>0.0</td>\n",
       "      <td>0.0</td>\n",
       "      <td>0.0</td>\n",
       "      <td>0.0</td>\n",
       "      <td>700.0</td>\n",
       "      <td>7.0</td>\n",
       "      <td>2006.0</td>\n",
       "    </tr>\n",
       "    <tr>\n",
       "      <th>1458</th>\n",
       "      <td>0.0</td>\n",
       "      <td>0.0</td>\n",
       "      <td>0.0</td>\n",
       "      <td>0.0</td>\n",
       "      <td>1.0</td>\n",
       "      <td>0.0</td>\n",
       "      <td>0.0</td>\n",
       "      <td>0.0</td>\n",
       "      <td>0.0</td>\n",
       "      <td>0.0</td>\n",
       "      <td>...</td>\n",
       "      <td>650.0</td>\n",
       "      <td>190.0</td>\n",
       "      <td>48.0</td>\n",
       "      <td>0.0</td>\n",
       "      <td>0.0</td>\n",
       "      <td>0.0</td>\n",
       "      <td>0.0</td>\n",
       "      <td>0.0</td>\n",
       "      <td>11.0</td>\n",
       "      <td>2006.0</td>\n",
       "    </tr>\n",
       "  </tbody>\n",
       "</table>\n",
       "<p>1459 rows × 286 columns</p>\n",
       "</div>"
      ],
      "text/plain": [
       "      0    1    2    3    4    5    6    7    8    9    ...    276    277  \\\n",
       "0     0.0  0.0  0.0  0.0  1.0  0.0  0.0  0.0  0.0  0.0  ...  730.0  140.0   \n",
       "1     0.0  0.0  0.0  0.0  1.0  0.0  0.0  0.0  0.0  0.0  ...  312.0  393.0   \n",
       "2     0.0  0.0  0.0  0.0  1.0  0.0  0.0  0.0  0.0  0.0  ...  482.0  212.0   \n",
       "3     0.0  0.0  0.0  0.0  1.0  0.0  0.0  0.0  0.0  0.0  ...  470.0  360.0   \n",
       "4     0.0  0.0  0.0  0.0  1.0  0.0  0.0  0.0  0.0  0.0  ...  506.0    0.0   \n",
       "...   ...  ...  ...  ...  ...  ...  ...  ...  ...  ...  ...    ...    ...   \n",
       "1454  0.0  0.0  0.0  0.0  1.0  0.0  0.0  0.0  0.0  0.0  ...    0.0    0.0   \n",
       "1455  1.0  0.0  0.0  0.0  0.0  0.0  0.0  0.0  0.0  0.0  ...  286.0    0.0   \n",
       "1456  1.0  0.0  0.0  0.0  0.0  0.0  0.0  0.0  0.0  0.0  ...  576.0  474.0   \n",
       "1457  0.0  0.0  0.0  0.0  1.0  0.0  0.0  0.0  0.0  0.0  ...    0.0   80.0   \n",
       "1458  0.0  0.0  0.0  0.0  1.0  0.0  0.0  0.0  0.0  0.0  ...  650.0  190.0   \n",
       "\n",
       "       278  279  280    281  282      283   284     285  \n",
       "0      0.0  0.0  0.0  120.0  0.0      0.0   6.0  2010.0  \n",
       "1     36.0  0.0  0.0    0.0  0.0  12500.0   6.0  2010.0  \n",
       "2     34.0  0.0  0.0    0.0  0.0      0.0   3.0  2010.0  \n",
       "3     36.0  0.0  0.0    0.0  0.0      0.0   6.0  2010.0  \n",
       "4     82.0  0.0  0.0  144.0  0.0      0.0   1.0  2010.0  \n",
       "...    ...  ...  ...    ...  ...      ...   ...     ...  \n",
       "1454   0.0  0.0  0.0    0.0  0.0      0.0   6.0  2006.0  \n",
       "1455  24.0  0.0  0.0    0.0  0.0      0.0   4.0  2006.0  \n",
       "1456   0.0  0.0  0.0    0.0  0.0      0.0   9.0  2006.0  \n",
       "1457  32.0  0.0  0.0    0.0  0.0    700.0   7.0  2006.0  \n",
       "1458  48.0  0.0  0.0    0.0  0.0      0.0  11.0  2006.0  \n",
       "\n",
       "[1459 rows x 286 columns]"
      ]
     },
     "execution_count": 802,
     "metadata": {},
     "output_type": "execute_result"
    }
   ],
   "source": [
    "from sklearn.preprocessing import OneHotEncoder\n",
    "from sklearn.compose import ColumnTransformer\n",
    "x=test\n",
    "# x.drop(\"PoolQC\",axis=1,inplace=True)\n",
    "# x.drop(\"MiscFeature\",axis=1,inplace=True)\n",
    "x.drop(\"Id\",axis=1,inplace=True)\n",
    "\n",
    "# x.drop(\"Alley\",axis=1,inplace=True)\n",
    "# x.drop(\"Fence\",axis=1,inplace=True)\n",
    "\n",
    "\n",
    "cf=[\"SaleCondition\",\"SaleType\",\"PavedDrive\",\"GarageCond\",\"GarageQual\",\"GarageFinish\",\"FireplaceQu\",\"Functional\",\"KitchenQual\",\"Electrical\",\"CentralAir\",\"HeatingQC\",\"Heating\",\"BsmtFinType2\",\"BsmtFinType1\",\"BsmtExposure\",\"BsmtCond\",\"BsmtQual\",\"Foundation\",\"ExterCond\",\"ExterQual\",\"MasVnrType\",\"Exterior2nd\",\"Exterior1st\",\"RoofMatl\",\"RoofStyle\",\"HouseStyle\",\"BldgType\",\"Condition2\",\"Condition1\",\"Neighborhood\",\"LandSlope\",\"LotConfig\",\"Utilities\",\"LandContour\",\"LotShape\",\"Street\",\"MSZoning\",\"GarageType\",\"Street\",\"GarageType\"]\n",
    "oh=OneHotEncoder(sparse=False)\n",
    "\n",
    "transformer=ColumnTransformer([(\"1hot\",oh,cf)],remainder=\"passthrough\")\n",
    "transformedx=transformer.fit_transform(test)\n",
    "x=pd.DataFrame(transformedx)\n",
    "x"
   ]
  },
  {
   "cell_type": "code",
   "execution_count": 804,
   "metadata": {},
   "outputs": [],
   "source": [
    "ypreds_actual =model.predict(x)"
   ]
  },
  {
   "cell_type": "code",
   "execution_count": 810,
   "metadata": {},
   "outputs": [],
   "source": [
    "predicted=pd.DataFrame(ypreds_actual)"
   ]
  },
  {
   "cell_type": "code",
   "execution_count": 811,
   "metadata": {},
   "outputs": [],
   "source": [
    "predicted.to_csv(\"preidictedbyhamid.csv\")"
   ]
  },
  {
   "cell_type": "code",
   "execution_count": 812,
   "metadata": {},
   "outputs": [
    {
     "data": {
      "text/plain": [
       "892     154500\n",
       "1105    325000\n",
       "413     115000\n",
       "522     159000\n",
       "1036    315500\n",
       "         ...  \n",
       "988     195000\n",
       "243     120000\n",
       "1342    228500\n",
       "1057    248000\n",
       "1418    124000\n",
       "Name: SalePrice, Length: 365, dtype: int64"
      ]
     },
     "execution_count": 812,
     "metadata": {},
     "output_type": "execute_result"
    }
   ],
   "source": [
    "ytest"
   ]
  },
  {
   "cell_type": "code",
   "execution_count": null,
   "metadata": {},
   "outputs": [],
   "source": []
  }
 ],
 "metadata": {
  "kernelspec": {
   "display_name": "Python 3 (ipykernel)",
   "language": "python",
   "name": "python3"
  },
  "language_info": {
   "codemirror_mode": {
    "name": "ipython",
    "version": 3
   },
   "file_extension": ".py",
   "mimetype": "text/x-python",
   "name": "python",
   "nbconvert_exporter": "python",
   "pygments_lexer": "ipython3",
   "version": "3.10.6"
  },
  "vscode": {
   "interpreter": {
    "hash": "01aaf8047257313ac93d98d42ebb941deb25f14b68fc8d4fddbeb658838499eb"
   }
  }
 },
 "nbformat": 4,
 "nbformat_minor": 2
}
