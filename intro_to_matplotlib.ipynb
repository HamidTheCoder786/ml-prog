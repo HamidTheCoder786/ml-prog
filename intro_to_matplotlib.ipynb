{
 "cells": [
  {
   "cell_type": "markdown",
   "metadata": {},
   "source": [
    "Introduction To matplotlib & Data Visualization"
   ]
  },
  {
   "cell_type": "code",
   "execution_count": null,
   "metadata": {},
   "outputs": [],
   "source": [
    "%matplotlib inline  \n",
    "#--> this line prints graphs in the notebook\n",
    "import matplotlib.pyplot as plt\n",
    "import numpy as np"
   ]
  },
  {
   "cell_type": "code",
   "execution_count": null,
   "metadata": {},
   "outputs": [],
   "source": [
    "import pandas as pd"
   ]
  },
  {
   "cell_type": "code",
   "execution_count": null,
   "metadata": {},
   "outputs": [],
   "source": [
    "x=[1,2,3,4]\n",
    "y=[11,22,33,44]\n",
    "plt.plot(x,y)"
   ]
  },
  {
   "cell_type": "code",
   "execution_count": null,
   "metadata": {},
   "outputs": [],
   "source": [
    "plt.plot(x,y); # --> this ; in the end does not prints the mem location of the graph\n"
   ]
  },
  {
   "cell_type": "code",
   "execution_count": null,
   "metadata": {},
   "outputs": [],
   "source": [
    "#  the other method \n",
    "fig=plt.figure()\n",
    "ax=fig.add_axes([1,1,1,1])\n",
    "ax.plot(x,y)\n",
    "plt.show()\n"
   ]
  },
  {
   "cell_type": "code",
   "execution_count": null,
   "metadata": {},
   "outputs": [],
   "source": [
    "#  the recommended method \n",
    "fig,ax=plt.subplots()\n",
    "ax.plot(x,y)\n",
    "type(fig), type(ax)"
   ]
  },
  {
   "cell_type": "markdown",
   "metadata": {},
   "source": [
    "Happy New Year 2023"
   ]
  },
  {
   "cell_type": "markdown",
   "metadata": {},
   "source": [
    "Making Figures With Numpy Array"
   ]
  },
  {
   "cell_type": "markdown",
   "metadata": {},
   "source": [
    "We want:\n",
    "\n",
    "\n",
    "* Line Plot\n",
    "\n",
    "* Scatter Plot\n",
    "\n",
    "* Bar Plots\n",
    "\n",
    "* Histograms\n",
    "\n",
    "* Subplots"
   ]
  },
  {
   "attachments": {},
   "cell_type": "markdown",
   "metadata": {},
   "source": [
    "These are the main types "
   ]
  },
  {
   "cell_type": "code",
   "execution_count": null,
   "metadata": {},
   "outputs": [],
   "source": [
    "x=np.linspace(0,10,100)\n"
   ]
  },
  {
   "cell_type": "code",
   "execution_count": null,
   "metadata": {},
   "outputs": [],
   "source": [
    "fig,ax=plt.subplots()\n",
    "ax.plot(x,x**2)"
   ]
  },
  {
   "cell_type": "code",
   "execution_count": null,
   "metadata": {},
   "outputs": [],
   "source": [
    "fig,ax=plt.subplots()\n",
    "ax.scatter(x,np.exp(x))"
   ]
  },
  {
   "cell_type": "code",
   "execution_count": null,
   "metadata": {},
   "outputs": [],
   "source": [
    "fig,ax=plt.subplots()\n",
    "ax.scatter(x,np.sin(x))"
   ]
  },
  {
   "cell_type": "code",
   "execution_count": null,
   "metadata": {},
   "outputs": [],
   "source": [
    "# Making plots using a dictionary\n",
    "\n",
    "nut={\"Almond\":10,\"Peanut\":8,\"Cashew\":12}\n",
    "\n",
    "fig,ax=plt.subplots() # --> flushes the old output of the program i.e creates a whole new graph \n",
    "ax.set(title=\"Hamid's Store\",ylabel=\"Price($)\")\n",
    "ax.bar(nut.keys(),nut.values())\n",
    "fig,ax=plt.subplots()\n",
    "\n",
    "ax.plot(nut.keys(),nut.values())\n",
    "fig,ax=plt.subplots()\n",
    "\n",
    "# ax.hist(nut.keys(),nut.values())\n",
    "ax.scatter(nut.keys(),nut.values())\n",
    "# fig,ax=plt.subplots()\n",
    "\n",
    "\n",
    "# ax.plot()\n"
   ]
  },
  {
   "cell_type": "code",
   "execution_count": null,
   "metadata": {},
   "outputs": [],
   "source": [
    "# printing a horizontal bar graph\n",
    "\n",
    "fig,ax=plt.subplots()\n",
    "ax.barh(list(nut.keys()),list(nut.values()))"
   ]
  },
  {
   "cell_type": "code",
   "execution_count": null,
   "metadata": {},
   "outputs": [],
   "source": [
    "x=np.random.randn(1000)\n",
    "fig,ax=plt.subplots()\n",
    "ax.hist(x)"
   ]
  },
  {
   "cell_type": "code",
   "execution_count": null,
   "metadata": {},
   "outputs": [],
   "source": [
    "fig,((ax1,ax2),(ax3,ax4))=plt.subplots(nrows=2,ncols=2,figsize=(10,5))\n",
    "#  plotting the data\n",
    "ax1.plot(x,x/2);\n",
    "ax2.scatter(np.random.random(10),np.random.random(10));\n",
    "ax3.bar(nut.keys(),nut.values());\n",
    "ax3.set(xlabel=\"Butter Flavour\",ylabel=\"Price ($)\");\n",
    "ax4.hist(np.random.randn(10000));\n"
   ]
  },
  {
   "cell_type": "code",
   "execution_count": null,
   "metadata": {},
   "outputs": [],
   "source": [
    "fig,ax=plt.subplots(nrows=2,ncols=2,figsize=(10,5))\n",
    "ax[0,0].plot(x,x/2);\n",
    "# print(\"hello\")\n",
    "ax[0,1].scatter(np.random.random(10),np.random.random(10));\n",
    "ax[1,0].bar(nut.keys(),nut.values());\n",
    "ax[1,1].hist(np.random.randn(1000));\n",
    "\n"
   ]
  },
  {
   "cell_type": "markdown",
   "metadata": {},
   "source": [
    "Plotting From Pandas DataFrame"
   ]
  },
  {
   "cell_type": "code",
   "execution_count": null,
   "metadata": {},
   "outputs": [],
   "source": [
    "car=pd.read_csv(\"car.csv\")\n",
    "car"
   ]
  },
  {
   "cell_type": "code",
   "execution_count": null,
   "metadata": {},
   "outputs": [],
   "source": [
    "ts=pd.Series(np.random.randn(1000),index=pd.date_range(\"1/1/2023\",periods=1000))\n",
    "ts=ts.cumsum()\n",
    "ts.plot();"
   ]
  },
  {
   "cell_type": "code",
   "execution_count": null,
   "metadata": {},
   "outputs": [],
   "source": [
    "car=pd.read_csv(\"car.csv\")\n",
    "car\n"
   ]
  },
  {
   "cell_type": "code",
   "execution_count": null,
   "metadata": {},
   "outputs": [],
   "source": [
    "car[\"Price\"]=car[\"Price\"].str.replace(\"[\\$\\,\\.]\",\"\").astype(int)\n"
   ]
  },
  {
   "cell_type": "code",
   "execution_count": null,
   "metadata": {},
   "outputs": [],
   "source": [
    "car"
   ]
  },
  {
   "cell_type": "code",
   "execution_count": null,
   "metadata": {},
   "outputs": [],
   "source": [
    "car[\"Price\"]=car[\"Price\"]/100\n",
    "car"
   ]
  },
  {
   "cell_type": "code",
   "execution_count": null,
   "metadata": {},
   "outputs": [],
   "source": [
    "car[\"sale date\"]=pd.date_range(\"1/1/2023\",periods=len(car))\n",
    "car"
   ]
  },
  {
   "cell_type": "code",
   "execution_count": null,
   "metadata": {},
   "outputs": [],
   "source": [
    "car[\"Total Sales\"]=car['Price'].cumsum()"
   ]
  },
  {
   "cell_type": "markdown",
   "metadata": {},
   "source": [
    "Creating a plot for the Car DataFrame"
   ]
  },
  {
   "cell_type": "code",
   "execution_count": null,
   "metadata": {},
   "outputs": [],
   "source": [
    "car.plot(x=\"sale date\",y=\"Total Sales\");"
   ]
  },
  {
   "cell_type": "code",
   "execution_count": null,
   "metadata": {},
   "outputs": [],
   "source": [
    "car.plot(x=\"Odometer\",y=\"Price\",kind=\"scatter\");"
   ]
  },
  {
   "cell_type": "code",
   "execution_count": null,
   "metadata": {},
   "outputs": [],
   "source": [
    "car"
   ]
  },
  {
   "cell_type": "markdown",
   "metadata": {},
   "source": [
    "Creating another DataFrame"
   ]
  },
  {
   "cell_type": "code",
   "execution_count": null,
   "metadata": {},
   "outputs": [],
   "source": [
    "x=np.random.rand(10,4)\n",
    "df=pd.DataFrame(x,columns=['a','b','c','d'])\n",
    "df"
   ]
  },
  {
   "cell_type": "code",
   "execution_count": null,
   "metadata": {},
   "outputs": [],
   "source": [
    "df.plot.bar()"
   ]
  },
  {
   "cell_type": "code",
   "execution_count": null,
   "metadata": {},
   "outputs": [],
   "source": [
    "df.plot(kind=\"bar\");"
   ]
  },
  {
   "cell_type": "code",
   "execution_count": null,
   "metadata": {},
   "outputs": [],
   "source": [
    "car.plot(x=\"Make\",y=\"Odometer\",kind=\"bar\")"
   ]
  },
  {
   "cell_type": "code",
   "execution_count": null,
   "metadata": {},
   "outputs": [],
   "source": [
    "car[\"Odometer\"].plot.hist(bins=10);"
   ]
  },
  {
   "cell_type": "code",
   "execution_count": null,
   "metadata": {},
   "outputs": [],
   "source": [
    "car[\"Odometer\"].plot(kind=\"hist\");"
   ]
  },
  {
   "cell_type": "code",
   "execution_count": null,
   "metadata": {},
   "outputs": [],
   "source": [
    "car.plot.hist(figsize=(10,20),subplots=True);\n"
   ]
  },
  {
   "cell_type": "markdown",
   "metadata": {},
   "source": [
    "Pyplot vs matplotlib oo method \n",
    "\n",
    "* When plotting something quickly use pyplot\n",
    "\n",
    "* When plotting something more advanced use the matplotlib oo method"
   ]
  },
  {
   "cell_type": "code",
   "execution_count": null,
   "metadata": {},
   "outputs": [],
   "source": [
    "car"
   ]
  },
  {
   "cell_type": "code",
   "execution_count": null,
   "metadata": {},
   "outputs": [],
   "source": [
    "white=car[car[\"Colour\"]==\"White\"]\n",
    "# white, len(white)\n",
    "len (white)\n",
    "white"
   ]
  },
  {
   "cell_type": "markdown",
   "metadata": {},
   "source": [
    "Pyplot Method"
   ]
  },
  {
   "cell_type": "code",
   "execution_count": null,
   "metadata": {},
   "outputs": [],
   "source": [
    "# white.plot(kind=\"scatter\",x=\"Make\",y=\"Price\",c=\"Odometer\");\n",
    "car.plot(kind=\"scatter\",x=\"Make\",y=\"Price\",c=\"Odometer\");\n"
   ]
  },
  {
   "attachments": {},
   "cell_type": "markdown",
   "metadata": {},
   "source": [
    "Using matplotlib oo method + pyplot method"
   ]
  },
  {
   "cell_type": "code",
   "execution_count": null,
   "metadata": {},
   "outputs": [],
   "source": [
    "fig,ax=plt.subplots(figsize=(10,6))\n",
    "car.plot(kind='scatter',x=\"Make\",y=\"Price\",c=\"Odometer\",ax=ax);"
   ]
  },
  {
   "cell_type": "markdown",
   "metadata": {},
   "source": [
    "Implementing oo method from scratch"
   ]
  },
  {
   "cell_type": "code",
   "execution_count": null,
   "metadata": {},
   "outputs": [],
   "source": [
    "fig,ax=plt.subplots(figsize=(10,5))\n",
    "#  plotting\n",
    "scatter=ax.scatter(x=car[\"Make\"],y=car[\"Price\"],c=car[\"Odometer\"])\n",
    "ax.set(title=\"Cars for Sale\",xlabel=\"Manufacturer\",ylabel=\"Price($) \");\n",
    "ax.legend(*scatter.legend_elements(),title=\"KM(s) Driven\");"
   ]
  },
  {
   "cell_type": "code",
   "execution_count": null,
   "metadata": {},
   "outputs": [],
   "source": []
  }
 ],
 "metadata": {
  "kernelspec": {
   "display_name": "Python 3",
   "language": "python",
   "name": "python3"
  },
  "language_info": {
   "codemirror_mode": {
    "name": "ipython",
    "version": 3
   },
   "file_extension": ".py",
   "mimetype": "text/x-python",
   "name": "python",
   "nbconvert_exporter": "python",
   "pygments_lexer": "ipython3",
   "version": "3.10.8"
  },
  "orig_nbformat": 4,
  "vscode": {
   "interpreter": {
    "hash": "01aaf8047257313ac93d98d42ebb941deb25f14b68fc8d4fddbeb658838499eb"
   }
  }
 },
 "nbformat": 4,
 "nbformat_minor": 2
}
